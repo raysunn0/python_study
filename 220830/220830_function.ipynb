{
 "cells": [
  {
   "cell_type": "markdown",
   "metadata": {},
   "source": [
    "# 복습, 함수만들기"
   ]
  },
  {
   "cell_type": "code",
   "execution_count": 6,
   "metadata": {},
   "outputs": [
    {
     "name": "stdout",
     "output_type": "stream",
     "text": [
      "1 2 3 4\n"
     ]
    }
   ],
   "source": [
    "#함수만들기\n",
    "def func_1(a, b=2, c=3, d=4): #매개변수 4개, a 제외한 나머지에는 기본값 지정.\n",
    "    print(a, b, c, d)\n",
    "\n",
    "func_1(1) #3개의 매개변수에는 기본값이 들어가있기에 인자값에 1개만 넣어줘도 출력이 됨"
   ]
  },
  {
   "cell_type": "code",
   "execution_count": 4,
   "metadata": {},
   "outputs": [
    {
     "name": "stdout",
     "output_type": "stream",
     "text": [
      "1 4 3 4\n"
     ]
    }
   ],
   "source": [
    "# 인자의 값은 매개변수의 순서대로 대입이 된다.\n",
    "func_1(1, 4)"
   ]
  },
  {
   "cell_type": "code",
   "execution_count": 5,
   "metadata": {},
   "outputs": [
    {
     "name": "stdout",
     "output_type": "stream",
     "text": [
      "1 2 10 4\n"
     ]
    }
   ],
   "source": [
    "# 매개변수 b의 값은 기본값을 사용하고, 매개변수 c의 값을 변경하는 경우\n",
    "func_1(1, c=10)"
   ]
  },
  {
   "cell_type": "markdown",
   "metadata": {},
   "source": [
    "1. 함수 하나 생성, 매개변수 a, b 2개\n",
    "2. 함수가 하는 행동 : a부터 b까지의 합을 리턴 > for문 / while문\n",
    "3. a보다 b가 작은 경우에는 b부터 a까지의 합을 리턴, 반대의 경우에는 a에서부터 b까지의 합을 구해서 리턴 > 반복문에 조건문까지 설정"
   ]
  },
  {
   "cell_type": "markdown",
   "metadata": {},
   "source": [
    "for문 이용"
   ]
  },
  {
   "cell_type": "code",
   "execution_count": 32,
   "metadata": {},
   "outputs": [
    {
     "name": "stdout",
     "output_type": "stream",
     "text": [
      "55\n"
     ]
    }
   ],
   "source": [
    "# 틀렸던 부분, return의 위치\n",
    "\n",
    "def func_2(a, b):\n",
    "    sum = 0\n",
    "    for i in range(a, b+1, 1):\n",
    "        sum += i\n",
    "    return sum #for문에서 나와서 return 해줘야함\n",
    "\n",
    "print(func_2(1, 10))\n"
   ]
  },
  {
   "cell_type": "markdown",
   "metadata": {},
   "source": [
    "while문 이용"
   ]
  },
  {
   "cell_type": "code",
   "execution_count": 39,
   "metadata": {},
   "outputs": [
    {
     "data": {
      "text/plain": [
       "15"
      ]
     },
     "execution_count": 39,
     "metadata": {},
     "output_type": "execute_result"
    }
   ],
   "source": [
    "def func_3(a, b):\n",
    "    sum = 0\n",
    "    i = a\n",
    "    while i <= b:\n",
    "        sum += i\n",
    "        i += 1\n",
    "    return sum\n",
    "\n",
    "func_3(1, 5)"
   ]
  },
  {
   "cell_type": "code",
   "execution_count": 45,
   "metadata": {},
   "outputs": [
    {
     "name": "stdout",
     "output_type": "stream",
     "text": [
      "55\n",
      "55\n"
     ]
    }
   ],
   "source": [
    "def func_4(a, b):\n",
    "    sum = 0\n",
    "    if a > b :\n",
    "        for i in range(b, a+1, 1):\n",
    "            sum += i\n",
    "        #return sum\n",
    "    else :\n",
    "        for i in range(a, b+1, 1):\n",
    "            sum += i\n",
    "    return sum\n",
    "\n",
    "print(func_4(1, 10))\n",
    "print(func_4(10, 1))"
   ]
  },
  {
   "cell_type": "code",
   "execution_count": 46,
   "metadata": {},
   "outputs": [
    {
     "name": "stdout",
     "output_type": "stream",
     "text": [
      "10\n",
      "10\n"
     ]
    }
   ],
   "source": [
    "def func_5(a, b):\n",
    "    sum = 0\n",
    "    for i in range(min(a, b), max(a, b)+1, 1):\n",
    "        sum += 1\n",
    "    return sum\n",
    "\n",
    "print(func_5(1, 10))\n",
    "print(func_5(10, 1))"
   ]
  },
  {
   "cell_type": "markdown",
   "metadata": {},
   "source": [
    "1. 함수 생성 (매개변수 3개 a, b, c)\n",
    "2. c의 값이 '합'이면 a+b\n",
    "3. c의 값이 '차'이면 a-b\n",
    "4. c의 값이 '곱'이면 a*b\n",
    "5. c의 값이 위 세가지에 포함이 안되면 '연산식이 잘못되었습니다.' 리턴"
   ]
  },
  {
   "cell_type": "code",
   "execution_count": 64,
   "metadata": {},
   "outputs": [
    {
     "name": "stdout",
     "output_type": "stream",
     "text": [
      "6\n",
      "-4\n",
      "5\n",
      "0.2\n",
      "연산식이 잘못되었습니다.\n"
     ]
    }
   ],
   "source": [
    "def func_6(a, b, c):\n",
    "    if c == \"합\":\n",
    "        return a+b\n",
    "    elif c == \"차\":\n",
    "        return a-b\n",
    "    elif c == \"곱\":\n",
    "        return a*b\n",
    "    elif c == \"나누기\":\n",
    "        return a/b\n",
    "    else:\n",
    "        return '연산식이 잘못되었습니다.'\n",
    "\n",
    "print(func_6(1, 5, \"합\"))\n",
    "print(func_6(1, 5, \"차\"))\n",
    "print(func_6(1, 5, \"곱\"))\n",
    "print(func_6(1, 5, \"나누기\"))\n",
    "print(func_6(1, 5, \"이얍\"))"
   ]
  },
  {
   "cell_type": "code",
   "execution_count": 60,
   "metadata": {},
   "outputs": [
    {
     "name": "stdout",
     "output_type": "stream",
     "text": [
      "6\n",
      "-4\n",
      "5\n",
      "0.2\n",
      "연산식이 잘못되었습니다.\n"
     ]
    }
   ],
   "source": [
    "#이렇게 쓰기도 함\n",
    "\n",
    "def func_6(a, b, c):\n",
    "    if c == \"합\":\n",
    "        result = a+b\n",
    "    elif c == \"차\":\n",
    "        result = a-b\n",
    "    elif c == \"곱\":\n",
    "        result = a*b\n",
    "    elif c == \"나누기\":\n",
    "        result = a/b\n",
    "    else:\n",
    "        result = '연산식이 잘못되었습니다.'\n",
    "    return result\n",
    "\n",
    "print(func_6(1, 5, \"합\"))\n",
    "print(func_6(1, 5, \"차\"))\n",
    "print(func_6(1, 5, \"곱\"))\n",
    "print(func_6(1, 5, \"나누기\"))\n",
    "print(func_6(1, 5, \"이얍\"))"
   ]
  },
  {
   "cell_type": "code",
   "execution_count": 65,
   "metadata": {},
   "outputs": [
    {
     "name": "stdout",
     "output_type": "stream",
     "text": [
      "25\n"
     ]
    }
   ],
   "source": [
    "# map함수\n",
    "def func_7(a):\n",
    "    result = a ** 2\n",
    "    return result\n",
    "\n",
    "print(func_7(5))"
   ]
  },
  {
   "cell_type": "code",
   "execution_count": 67,
   "metadata": {},
   "outputs": [
    {
     "name": "stdout",
     "output_type": "stream",
     "text": [
      "[1, 4, 9, 16]\n"
     ]
    }
   ],
   "source": [
    "a = list(map(func_7, [1, 2, 3, 4])) #func_7에 리스트 1, 2, 3, 4를 넣는다.\n",
    "    #리스트 형태로 받아오고 있기 때문에 list()로 묶어줘야 함\n",
    "print(a)"
   ]
  },
  {
   "cell_type": "code",
   "execution_count": 68,
   "metadata": {},
   "outputs": [
    {
     "data": {
      "text/plain": [
       "16"
      ]
     },
     "execution_count": 68,
     "metadata": {},
     "output_type": "execute_result"
    }
   ],
   "source": [
    "# lambda 함수\n",
    "lamb = lambda x : x**2 #x라는 매개변수에 4라는 인자값을 넣어줌\n",
    "lamb(4)"
   ]
  },
  {
   "cell_type": "code",
   "execution_count": null,
   "metadata": {},
   "outputs": [],
   "source": []
  }
 ],
 "metadata": {
  "kernelspec": {
   "display_name": "Python 3.7.4 64-bit",
   "language": "python",
   "name": "python3"
  },
  "language_info": {
   "codemirror_mode": {
    "name": "ipython",
    "version": 3
   },
   "file_extension": ".py",
   "mimetype": "text/x-python",
   "name": "python",
   "nbconvert_exporter": "python",
   "pygments_lexer": "ipython3",
   "version": "3.7.4"
  },
  "orig_nbformat": 4,
  "vscode": {
   "interpreter": {
    "hash": "8b14a0db5529cddf4d1b801fc161c5e32b742119ae506b31a16c8b7873851752"
   }
  }
 },
 "nbformat": 4,
 "nbformat_minor": 2
}
