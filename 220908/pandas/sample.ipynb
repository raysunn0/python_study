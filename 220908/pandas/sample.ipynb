{
 "cells": [
  {
   "cell_type": "code",
   "execution_count": 1,
   "metadata": {},
   "outputs": [],
   "source": [
    "## 라이브러리 설치하는 명령어\n",
    "# pip install 라이브러리명\n",
    "# 주피터 환경에서 명령어 입력시에는 앞에 ! 붙여서 사용을 하는 게 좋다. \n",
    "# (앞에 주석이 있거나 하면 주석 때문에 설치안되는 경우 있음, !로 끊어놓고 입력하는 게 좋다~)\n",
    "\n",
    "## 라이브러리 로드\n",
    "# import 라이브러리명 as 별칭\n",
    "# from 라이브러리명 import 라이브러리 내부에 있는 함수나 클래스명\n",
    "# from flask import Flask"
   ]
  },
  {
   "cell_type": "code",
   "execution_count": 2,
   "metadata": {},
   "outputs": [],
   "source": [
    "import pandas as pd"
   ]
  },
  {
   "cell_type": "markdown",
   "metadata": {},
   "source": [
    "### pandas"
   ]
  },
  {
   "cell_type": "markdown",
   "metadata": {},
   "source": [
    "1. 컬럼의 이름을 변경하는 방법\n",
    "- 데이터프레임명.columns -> list 형태로 컬럼을 추출\n",
    "- 데이터프레임명.columns = [\"\", \"\", \"\"] -> 데이터프레임의 컬럼이 변경"
   ]
  },
  {
   "cell_type": "markdown",
   "metadata": {},
   "source": [
    "2. 특정 컬럼을 추출하는 방법\n",
    "- 데이터프레임명[특정 컬럼명] -> data형태 : 스리즈\n",
    "- 스리즈의 형태의 데이터를 list형태로 변환하려면 -> tolist()"
   ]
  },
  {
   "cell_type": "markdown",
   "metadata": {},
   "source": [
    "3. 2개의 데이터프레임을 단순히 행 결합하는 함수명 -> concat()"
   ]
  },
  {
   "cell_type": "markdown",
   "metadata": {},
   "source": [
    "4. 2개의 데이터프레임을 결합, 특정한 조건을 가지고 결합하는 함수명 -> merge()"
   ]
  },
  {
   "cell_type": "markdown",
   "metadata": {},
   "source": [
    "5. 특정 컬럼을 기준으로 정렬을 바꿔주는 함수명 -> sort_values('기준이 되는 컬럼명', ascending=True, inplace=True) \n",
    "- inplace는 기준이 되는 함수 변경여부 선택"
   ]
  },
  {
   "cell_type": "markdown",
   "metadata": {},
   "source": [
    "6. 정렬 후에 인덱스의 값을 초기화하여 재지정하는 함수 -> reset_index() \n",
    "- 기존에 있는 인덱스 삭제 여부 : drop=True\n",
    "- 기준이 되는 데이터 수정 여부 : inplace=True"
   ]
  },
  {
   "cell_type": "markdown",
   "metadata": {},
   "source": [
    "7. 결측치의 존재 유무 판단하여 bool의 형태로 출력하는 함수 -> isna()\n",
    "- is함수는 어떠한 값의 존재 유무 판단하는 함수"
   ]
  },
  {
   "cell_type": "markdown",
   "metadata": {},
   "source": [
    "8. 특정 컬럼의 값을 기준으로 그룹화하는 함수명 -> groupby()\n",
    "- sum(), mean(), min(), max()\n",
    "- 합, 평균, 최소, 최대 값들을 한줄로 표현하여 데이터프레임의 형태로 표현할 수 있음\n",
    "- ex) 데이터프레임.groupby('특정 칼럼').agg(['sum', 'mean', 'min', 'max'])"
   ]
  },
  {
   "cell_type": "markdown",
   "metadata": {},
   "source": [
    "9. 데이터프레임의 통계요약 정보 출력하는 함수명 -> describe()"
   ]
  },
  {
   "cell_type": "markdown",
   "metadata": {},
   "source": [
    "10. 데이터간의 차이를 구하는 함수명 -> \n",
    "- shift(n)\n",
    "    - n만큼의 행을 이동한 데이터의 값\n",
    "    - ex) 데이터프레임명[\"컬럼명\"] - 데이터프레임명[\"컬럼명\"].shift()\n",
    "- diff() : 현재의 행의 데이터와 이동한 행의 데이터의 차이\n",
    "    - 현재의 행의 데이터와 이동한 행의 데이터의 차이\n",
    "    - 데이터프레임명['컬럼명'].diff()"
   ]
  },
  {
   "cell_type": "markdown",
   "metadata": {},
   "source": [
    "11. apply()\n",
    "- 데이터프레임에 있는 각 원소들을 apply(함수) 함수에 대입하여 결과값을 출력\n",
    "- ex) apply(일반 함수), apply(lambda함수)"
   ]
  },
  {
   "cell_type": "markdown",
   "metadata": {},
   "source": [
    "12. lambda함수\n",
    "- 일반 함수와의 차이 -> 일반 함수는 함수를 선언 후 호출, lambda 함수는 선언과 동시에 호출\n",
    "- 간단한 작업을 하는 함수에서는 lambda함수를 자주 사용"
   ]
  },
  {
   "cell_type": "code",
   "execution_count": 3,
   "metadata": {},
   "outputs": [
    {
     "data": {
      "text/plain": [
       "6"
      ]
     },
     "execution_count": 3,
     "metadata": {},
     "output_type": "execute_result"
    }
   ],
   "source": [
    "def func_1(x):\n",
    "    result = x+1\n",
    "    return result\n",
    "func_1(5)"
   ]
  },
  {
   "cell_type": "code",
   "execution_count": 4,
   "metadata": {},
   "outputs": [
    {
     "data": {
      "text/plain": [
       "16"
      ]
     },
     "execution_count": 4,
     "metadata": {},
     "output_type": "execute_result"
    }
   ],
   "source": [
    "lamb = lambda x : x**2\n",
    "lamb(4)"
   ]
  },
  {
   "cell_type": "markdown",
   "metadata": {},
   "source": [
    "13. map함수\n",
    "- list에 있는 원소들을 함수에 대입해서 결과를 출력하는 과정"
   ]
  },
  {
   "cell_type": "code",
   "execution_count": 5,
   "metadata": {},
   "outputs": [
    {
     "name": "stdout",
     "output_type": "stream",
     "text": [
      "[2, 3, 4, 5]\n"
     ]
    }
   ],
   "source": [
    "print(list(map(func_1, [1, 2, 3, 4])))\n",
    "# 각 원소별로 func_1에 넣고 돌려서 나온걸 list화 해준 것\n",
    "# apply와 비슷함"
   ]
  }
 ],
 "metadata": {
  "kernelspec": {
   "display_name": "Python 3.7.4 64-bit",
   "language": "python",
   "name": "python3"
  },
  "language_info": {
   "codemirror_mode": {
    "name": "ipython",
    "version": 3
   },
   "file_extension": ".py",
   "mimetype": "text/x-python",
   "name": "python",
   "nbconvert_exporter": "python",
   "pygments_lexer": "ipython3",
   "version": "3.7.4"
  },
  "orig_nbformat": 4,
  "vscode": {
   "interpreter": {
    "hash": "8b14a0db5529cddf4d1b801fc161c5e32b742119ae506b31a16c8b7873851752"
   }
  }
 },
 "nbformat": 4,
 "nbformat_minor": 2
}
