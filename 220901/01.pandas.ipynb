{
 "cells": [
  {
   "cell_type": "code",
   "execution_count": 116,
   "metadata": {},
   "outputs": [],
   "source": [
    "import pandas as pd\n",
    "import numpy as np"
   ]
  },
  {
   "cell_type": "code",
   "execution_count": 117,
   "metadata": {},
   "outputs": [],
   "source": [
    "corona = pd.read_csv(\"../csv/corona.csv\")"
   ]
  },
  {
   "cell_type": "code",
   "execution_count": 118,
   "metadata": {},
   "outputs": [],
   "source": [
    "corona.drop([\"Unnamed: 0\"], axis=\"columns\", inplace=True)"
   ]
  },
  {
   "cell_type": "code",
   "execution_count": 119,
   "metadata": {},
   "outputs": [],
   "source": [
    "corona.columns = ['등록일시', '사망자', '확진자', '게시글번호', '기준일', '기준시간', '수정일시', '누적의심자', '누적확진률']"
   ]
  },
  {
   "cell_type": "code",
   "execution_count": 120,
   "metadata": {},
   "outputs": [],
   "source": [
    "corona.sort_values([\"등록일시\"], inplace=True)"
   ]
  },
  {
   "cell_type": "code",
   "execution_count": 121,
   "metadata": {},
   "outputs": [],
   "source": [
    "corona.reset_index(drop=True, inplace=True) "
   ]
  },
  {
   "cell_type": "code",
   "execution_count": 122,
   "metadata": {},
   "outputs": [
    {
     "data": {
      "text/html": [
       "<div>\n",
       "<style scoped>\n",
       "    .dataframe tbody tr th:only-of-type {\n",
       "        vertical-align: middle;\n",
       "    }\n",
       "\n",
       "    .dataframe tbody tr th {\n",
       "        vertical-align: top;\n",
       "    }\n",
       "\n",
       "    .dataframe thead th {\n",
       "        text-align: right;\n",
       "    }\n",
       "</style>\n",
       "<table border=\"1\" class=\"dataframe\">\n",
       "  <thead>\n",
       "    <tr style=\"text-align: right;\">\n",
       "      <th></th>\n",
       "      <th>등록일시</th>\n",
       "      <th>사망자</th>\n",
       "      <th>확진자</th>\n",
       "      <th>게시글번호</th>\n",
       "      <th>기준일</th>\n",
       "      <th>기준시간</th>\n",
       "      <th>수정일시</th>\n",
       "      <th>누적의심자</th>\n",
       "      <th>누적확진률</th>\n",
       "      <th>일일확진자</th>\n",
       "      <th>일일사망자</th>\n",
       "    </tr>\n",
       "  </thead>\n",
       "  <tbody>\n",
       "    <tr>\n",
       "      <th>0</th>\n",
       "      <td>2020-03-10 00:00:00.000</td>\n",
       "      <td>54</td>\n",
       "      <td>7513</td>\n",
       "      <td>51</td>\n",
       "      <td>20200310</td>\n",
       "      <td>00:00</td>\n",
       "      <td>2021-10-07 10:30:51.51</td>\n",
       "      <td>210144.0</td>\n",
       "      <td>3.919308</td>\n",
       "      <td>NaN</td>\n",
       "      <td>NaN</td>\n",
       "    </tr>\n",
       "    <tr>\n",
       "      <th>1</th>\n",
       "      <td>2020-03-11 00:00:00.000</td>\n",
       "      <td>60</td>\n",
       "      <td>7755</td>\n",
       "      <td>52</td>\n",
       "      <td>20200311</td>\n",
       "      <td>00:00</td>\n",
       "      <td>2021-10-07 10:30:51.51</td>\n",
       "      <td>222395.0</td>\n",
       "      <td>3.804175</td>\n",
       "      <td>242.0</td>\n",
       "      <td>6.0</td>\n",
       "    </tr>\n",
       "    <tr>\n",
       "      <th>2</th>\n",
       "      <td>2020-03-12 00:00:00.000</td>\n",
       "      <td>66</td>\n",
       "      <td>7869</td>\n",
       "      <td>53</td>\n",
       "      <td>20200312</td>\n",
       "      <td>00:00</td>\n",
       "      <td>2021-10-07 10:30:51.51</td>\n",
       "      <td>234998.0</td>\n",
       "      <td>3.621744</td>\n",
       "      <td>114.0</td>\n",
       "      <td>6.0</td>\n",
       "    </tr>\n",
       "    <tr>\n",
       "      <th>3</th>\n",
       "      <td>2020-03-13 00:00:00.000</td>\n",
       "      <td>67</td>\n",
       "      <td>7979</td>\n",
       "      <td>54</td>\n",
       "      <td>20200313</td>\n",
       "      <td>00:00</td>\n",
       "      <td>2021-10-07 10:30:51.51</td>\n",
       "      <td>248647.0</td>\n",
       "      <td>3.458499</td>\n",
       "      <td>110.0</td>\n",
       "      <td>1.0</td>\n",
       "    </tr>\n",
       "    <tr>\n",
       "      <th>4</th>\n",
       "      <td>2020-03-14 00:00:00.000</td>\n",
       "      <td>72</td>\n",
       "      <td>8086</td>\n",
       "      <td>55</td>\n",
       "      <td>20200314</td>\n",
       "      <td>00:00</td>\n",
       "      <td>2021-10-07 10:30:51.51</td>\n",
       "      <td>261335.0</td>\n",
       "      <td>3.318000</td>\n",
       "      <td>107.0</td>\n",
       "      <td>5.0</td>\n",
       "    </tr>\n",
       "  </tbody>\n",
       "</table>\n",
       "</div>"
      ],
      "text/plain": [
       "                      등록일시  사망자   확진자  게시글번호       기준일   기준시간  \\\n",
       "0  2020-03-10 00:00:00.000   54  7513     51  20200310  00:00   \n",
       "1  2020-03-11 00:00:00.000   60  7755     52  20200311  00:00   \n",
       "2  2020-03-12 00:00:00.000   66  7869     53  20200312  00:00   \n",
       "3  2020-03-13 00:00:00.000   67  7979     54  20200313  00:00   \n",
       "4  2020-03-14 00:00:00.000   72  8086     55  20200314  00:00   \n",
       "\n",
       "                     수정일시     누적의심자     누적확진률  일일확진자  일일사망자  \n",
       "0  2021-10-07 10:30:51.51  210144.0  3.919308    NaN    NaN  \n",
       "1  2021-10-07 10:30:51.51  222395.0  3.804175  242.0    6.0  \n",
       "2  2021-10-07 10:30:51.51  234998.0  3.621744  114.0    6.0  \n",
       "3  2021-10-07 10:30:51.51  248647.0  3.458499  110.0    1.0  \n",
       "4  2021-10-07 10:30:51.51  261335.0  3.318000  107.0    5.0  "
      ]
     },
     "execution_count": 122,
     "metadata": {},
     "output_type": "execute_result"
    }
   ],
   "source": [
    "corona[\"일일확진자\"] = corona[\"확진자\"].diff()\n",
    "corona[\"일일사망자\"] = corona[\"사망자\"].diff()\n",
    "corona.head()"
   ]
  },
  {
   "cell_type": "code",
   "execution_count": 123,
   "metadata": {},
   "outputs": [
    {
     "data": {
      "text/html": [
       "<div>\n",
       "<style scoped>\n",
       "    .dataframe tbody tr th:only-of-type {\n",
       "        vertical-align: middle;\n",
       "    }\n",
       "\n",
       "    .dataframe tbody tr th {\n",
       "        vertical-align: top;\n",
       "    }\n",
       "\n",
       "    .dataframe thead th {\n",
       "        text-align: right;\n",
       "    }\n",
       "</style>\n",
       "<table border=\"1\" class=\"dataframe\">\n",
       "  <thead>\n",
       "    <tr style=\"text-align: right;\">\n",
       "      <th></th>\n",
       "      <th>등록일시</th>\n",
       "      <th>사망자</th>\n",
       "      <th>확진자</th>\n",
       "      <th>게시글번호</th>\n",
       "      <th>기준일</th>\n",
       "      <th>기준시간</th>\n",
       "      <th>수정일시</th>\n",
       "      <th>누적의심자</th>\n",
       "      <th>누적확진률</th>\n",
       "      <th>일일확진자</th>\n",
       "      <th>일일사망자</th>\n",
       "    </tr>\n",
       "  </thead>\n",
       "  <tbody>\n",
       "    <tr>\n",
       "      <th>0</th>\n",
       "      <td>2020-03-10 00:00:00.000</td>\n",
       "      <td>54</td>\n",
       "      <td>7513</td>\n",
       "      <td>51</td>\n",
       "      <td>20200310</td>\n",
       "      <td>00:00</td>\n",
       "      <td>2021-10-07 10:30:51.51</td>\n",
       "      <td>210144.0</td>\n",
       "      <td>3.919308</td>\n",
       "      <td>0.0</td>\n",
       "      <td>NaN</td>\n",
       "    </tr>\n",
       "    <tr>\n",
       "      <th>1</th>\n",
       "      <td>2020-03-11 00:00:00.000</td>\n",
       "      <td>60</td>\n",
       "      <td>7755</td>\n",
       "      <td>52</td>\n",
       "      <td>20200311</td>\n",
       "      <td>00:00</td>\n",
       "      <td>2021-10-07 10:30:51.51</td>\n",
       "      <td>222395.0</td>\n",
       "      <td>3.804175</td>\n",
       "      <td>242.0</td>\n",
       "      <td>6.0</td>\n",
       "    </tr>\n",
       "    <tr>\n",
       "      <th>2</th>\n",
       "      <td>2020-03-12 00:00:00.000</td>\n",
       "      <td>66</td>\n",
       "      <td>7869</td>\n",
       "      <td>53</td>\n",
       "      <td>20200312</td>\n",
       "      <td>00:00</td>\n",
       "      <td>2021-10-07 10:30:51.51</td>\n",
       "      <td>234998.0</td>\n",
       "      <td>3.621744</td>\n",
       "      <td>114.0</td>\n",
       "      <td>6.0</td>\n",
       "    </tr>\n",
       "    <tr>\n",
       "      <th>3</th>\n",
       "      <td>2020-03-13 00:00:00.000</td>\n",
       "      <td>67</td>\n",
       "      <td>7979</td>\n",
       "      <td>54</td>\n",
       "      <td>20200313</td>\n",
       "      <td>00:00</td>\n",
       "      <td>2021-10-07 10:30:51.51</td>\n",
       "      <td>248647.0</td>\n",
       "      <td>3.458499</td>\n",
       "      <td>110.0</td>\n",
       "      <td>1.0</td>\n",
       "    </tr>\n",
       "    <tr>\n",
       "      <th>4</th>\n",
       "      <td>2020-03-14 00:00:00.000</td>\n",
       "      <td>72</td>\n",
       "      <td>8086</td>\n",
       "      <td>55</td>\n",
       "      <td>20200314</td>\n",
       "      <td>00:00</td>\n",
       "      <td>2021-10-07 10:30:51.51</td>\n",
       "      <td>261335.0</td>\n",
       "      <td>3.318000</td>\n",
       "      <td>107.0</td>\n",
       "      <td>5.0</td>\n",
       "    </tr>\n",
       "  </tbody>\n",
       "</table>\n",
       "</div>"
      ],
      "text/plain": [
       "                      등록일시  사망자   확진자  게시글번호       기준일   기준시간  \\\n",
       "0  2020-03-10 00:00:00.000   54  7513     51  20200310  00:00   \n",
       "1  2020-03-11 00:00:00.000   60  7755     52  20200311  00:00   \n",
       "2  2020-03-12 00:00:00.000   66  7869     53  20200312  00:00   \n",
       "3  2020-03-13 00:00:00.000   67  7979     54  20200313  00:00   \n",
       "4  2020-03-14 00:00:00.000   72  8086     55  20200314  00:00   \n",
       "\n",
       "                     수정일시     누적의심자     누적확진률  일일확진자  일일사망자  \n",
       "0  2021-10-07 10:30:51.51  210144.0  3.919308    0.0    NaN  \n",
       "1  2021-10-07 10:30:51.51  222395.0  3.804175  242.0    6.0  \n",
       "2  2021-10-07 10:30:51.51  234998.0  3.621744  114.0    6.0  \n",
       "3  2021-10-07 10:30:51.51  248647.0  3.458499  110.0    1.0  \n",
       "4  2021-10-07 10:30:51.51  261335.0  3.318000  107.0    5.0  "
      ]
     },
     "execution_count": 123,
     "metadata": {},
     "output_type": "execute_result"
    }
   ],
   "source": [
    "## 결측치를 채우는 함수\n",
    "## fillna(결측치에 들어갈 값)\n",
    "corona[\"일일확진자\"] = corona[\"일일확진자\"].fillna(0) # 0을 채워도 되고 평균값을 채워도 되고...\n",
    "corona.head()"
   ]
  },
  {
   "cell_type": "code",
   "execution_count": 124,
   "metadata": {},
   "outputs": [
    {
     "data": {
      "text/plain": [
       "0      210144.0\n",
       "1      222395.0\n",
       "2      234998.0\n",
       "3      248647.0\n",
       "4      261335.0\n",
       "         ...   \n",
       "815         NaN\n",
       "816         NaN\n",
       "817         NaN\n",
       "818         NaN\n",
       "819         NaN\n",
       "Name: 누적의심자, Length: 820, dtype: float64"
      ]
     },
     "execution_count": 124,
     "metadata": {},
     "output_type": "execute_result"
    }
   ],
   "source": [
    "# fillna(옵션)\n",
    "# method 속성 -> ffill, bfill\n",
    "# fill 채우다 라는 의미, f:front / b:back\n",
    "# ffill -> 전의 값으로 채운다\n",
    "# bfill -> 후의 값으로 채운다\n",
    "# 누적의심자 컬럼의 값들을 fillna(method = 'bfill')\n",
    "corona[\"누적의심자\"].fillna(method = 'bfill')"
   ]
  },
  {
   "cell_type": "code",
   "execution_count": 125,
   "metadata": {},
   "outputs": [
    {
     "data": {
      "text/plain": [
       "0        210144.0\n",
       "1        222395.0\n",
       "2        234998.0\n",
       "3        248647.0\n",
       "4        261335.0\n",
       "          ...    \n",
       "815    21518073.0\n",
       "816    21518073.0\n",
       "817    21518073.0\n",
       "818    21518073.0\n",
       "819    21518073.0\n",
       "Name: 누적의심자, Length: 820, dtype: float64"
      ]
     },
     "execution_count": 125,
     "metadata": {},
     "output_type": "execute_result"
    }
   ],
   "source": [
    "corona[\"누적의심자\"].fillna(method = 'ffill')"
   ]
  },
  {
   "cell_type": "code",
   "execution_count": 126,
   "metadata": {},
   "outputs": [],
   "source": [
    "# 누적확진률의 결측치 값을 누적확진률의 평균으로 채운다.\n",
    "#corona[\"누적확진률\"] = corona[\"누적확진률\"].fillna(corona['누적확진률'].mean())\n",
    "corona[\"누적확진률\"].fillna(corona['누적확진률'].mean(), inplace=True)"
   ]
  },
  {
   "cell_type": "code",
   "execution_count": 127,
   "metadata": {},
   "outputs": [
    {
     "data": {
      "text/html": [
       "<div>\n",
       "<style scoped>\n",
       "    .dataframe tbody tr th:only-of-type {\n",
       "        vertical-align: middle;\n",
       "    }\n",
       "\n",
       "    .dataframe tbody tr th {\n",
       "        vertical-align: top;\n",
       "    }\n",
       "\n",
       "    .dataframe thead th {\n",
       "        text-align: right;\n",
       "    }\n",
       "</style>\n",
       "<table border=\"1\" class=\"dataframe\">\n",
       "  <thead>\n",
       "    <tr style=\"text-align: right;\">\n",
       "      <th></th>\n",
       "      <th>등록일시</th>\n",
       "      <th>사망자</th>\n",
       "      <th>확진자</th>\n",
       "      <th>게시글번호</th>\n",
       "      <th>기준일</th>\n",
       "      <th>기준시간</th>\n",
       "      <th>수정일시</th>\n",
       "      <th>누적의심자</th>\n",
       "      <th>누적확진률</th>\n",
       "      <th>일일확진자</th>\n",
       "      <th>일일사망자</th>\n",
       "    </tr>\n",
       "  </thead>\n",
       "  <tbody>\n",
       "    <tr>\n",
       "      <th>446</th>\n",
       "      <td>2021-05-30 00:00:00.000</td>\n",
       "      <td>1957</td>\n",
       "      <td>139907</td>\n",
       "      <td>497</td>\n",
       "      <td>20210530</td>\n",
       "      <td>00:00</td>\n",
       "      <td>2021-10-07 10:30:51.51</td>\n",
       "      <td>9747612.0</td>\n",
       "      <td>1.454166</td>\n",
       "      <td>-430.0</td>\n",
       "      <td>-2.0</td>\n",
       "    </tr>\n",
       "  </tbody>\n",
       "</table>\n",
       "</div>"
      ],
      "text/plain": [
       "                        등록일시   사망자     확진자  게시글번호       기준일   기준시간  \\\n",
       "446  2021-05-30 00:00:00.000  1957  139907    497  20210530  00:00   \n",
       "\n",
       "                       수정일시      누적의심자     누적확진률  일일확진자  일일사망자  \n",
       "446  2021-10-07 10:30:51.51  9747612.0  1.454166 -430.0   -2.0  "
      ]
     },
     "execution_count": 127,
     "metadata": {},
     "output_type": "execute_result"
    }
   ],
   "source": [
    "# filter 기능\n",
    "# query()\n",
    "corona.query(\"일일확진자 < 0\") #이런 경우가 있으면 안되는데 나옴\n",
    "\n",
    "# 조건식에 맞는 필터기능\n",
    "# 일일확진자의 0보다 작은 값을 출력하겠다!"
   ]
  },
  {
   "cell_type": "code",
   "execution_count": null,
   "metadata": {},
   "outputs": [],
   "source": [
    "# 위의 쿼리를 이용해 해당 내용 부분 결측값으로 만들어 없애기\n",
    "corona.query(\"일일확진자 < 0\")[\"일일확진자\"] = np.nan #numpy를 이용해 nan 결측치 만들기\n",
    "corona.dropba(axia =0) #0 : 행, rows"
   ]
  },
  {
   "cell_type": "code",
   "execution_count": 128,
   "metadata": {},
   "outputs": [
    {
     "data": {
      "text/html": [
       "<div>\n",
       "<style scoped>\n",
       "    .dataframe tbody tr th:only-of-type {\n",
       "        vertical-align: middle;\n",
       "    }\n",
       "\n",
       "    .dataframe tbody tr th {\n",
       "        vertical-align: top;\n",
       "    }\n",
       "\n",
       "    .dataframe thead th {\n",
       "        text-align: right;\n",
       "    }\n",
       "</style>\n",
       "<table border=\"1\" class=\"dataframe\">\n",
       "  <thead>\n",
       "    <tr style=\"text-align: right;\">\n",
       "      <th></th>\n",
       "      <th>등록일시</th>\n",
       "      <th>사망자</th>\n",
       "      <th>확진자</th>\n",
       "      <th>게시글번호</th>\n",
       "      <th>기준일</th>\n",
       "      <th>기준시간</th>\n",
       "      <th>수정일시</th>\n",
       "      <th>누적의심자</th>\n",
       "      <th>누적확진률</th>\n",
       "      <th>일일확진자</th>\n",
       "      <th>일일사망자</th>\n",
       "    </tr>\n",
       "  </thead>\n",
       "  <tbody>\n",
       "    <tr>\n",
       "      <th>444</th>\n",
       "      <td>2021-05-29 00:00:00.000</td>\n",
       "      <td>1951</td>\n",
       "      <td>139427</td>\n",
       "      <td>496</td>\n",
       "      <td>20210529</td>\n",
       "      <td>00:00</td>\n",
       "      <td>2021-10-07 10:30:51.51</td>\n",
       "      <td>9733588.0</td>\n",
       "      <td>1.450884</td>\n",
       "      <td>533.0</td>\n",
       "      <td>5.0</td>\n",
       "    </tr>\n",
       "    <tr>\n",
       "      <th>445</th>\n",
       "      <td>2021-05-30 00:00:00.0</td>\n",
       "      <td>1959</td>\n",
       "      <td>140337</td>\n",
       "      <td>498</td>\n",
       "      <td>20210531</td>\n",
       "      <td>00:00</td>\n",
       "      <td>2021-10-14 13:48:56.821</td>\n",
       "      <td>9761156.0</td>\n",
       "      <td>1.456805</td>\n",
       "      <td>910.0</td>\n",
       "      <td>8.0</td>\n",
       "    </tr>\n",
       "    <tr>\n",
       "      <th>446</th>\n",
       "      <td>2021-05-30 00:00:00.000</td>\n",
       "      <td>1957</td>\n",
       "      <td>139907</td>\n",
       "      <td>497</td>\n",
       "      <td>20210530</td>\n",
       "      <td>00:00</td>\n",
       "      <td>2021-10-07 10:30:51.51</td>\n",
       "      <td>9747612.0</td>\n",
       "      <td>1.454166</td>\n",
       "      <td>-430.0</td>\n",
       "      <td>-2.0</td>\n",
       "    </tr>\n",
       "    <tr>\n",
       "      <th>447</th>\n",
       "      <td>2021-06-01 00:00:00.000</td>\n",
       "      <td>1963</td>\n",
       "      <td>140796</td>\n",
       "      <td>499</td>\n",
       "      <td>20210601</td>\n",
       "      <td>00:00</td>\n",
       "      <td>2021-10-07 10:30:51.51</td>\n",
       "      <td>9798400.0</td>\n",
       "      <td>1.455890</td>\n",
       "      <td>889.0</td>\n",
       "      <td>6.0</td>\n",
       "    </tr>\n",
       "    <tr>\n",
       "      <th>448</th>\n",
       "      <td>2021-06-02 00:00:00.000</td>\n",
       "      <td>1965</td>\n",
       "      <td>141473</td>\n",
       "      <td>500</td>\n",
       "      <td>20210602</td>\n",
       "      <td>00:00</td>\n",
       "      <td>2021-10-07 10:30:51.51</td>\n",
       "      <td>9834348.0</td>\n",
       "      <td>1.457668</td>\n",
       "      <td>677.0</td>\n",
       "      <td>2.0</td>\n",
       "    </tr>\n",
       "  </tbody>\n",
       "</table>\n",
       "</div>"
      ],
      "text/plain": [
       "                        등록일시   사망자     확진자  게시글번호       기준일   기준시간  \\\n",
       "444  2021-05-29 00:00:00.000  1951  139427    496  20210529  00:00   \n",
       "445    2021-05-30 00:00:00.0  1959  140337    498  20210531  00:00   \n",
       "446  2021-05-30 00:00:00.000  1957  139907    497  20210530  00:00   \n",
       "447  2021-06-01 00:00:00.000  1963  140796    499  20210601  00:00   \n",
       "448  2021-06-02 00:00:00.000  1965  141473    500  20210602  00:00   \n",
       "\n",
       "                        수정일시      누적의심자     누적확진률  일일확진자  일일사망자  \n",
       "444   2021-10-07 10:30:51.51  9733588.0  1.450884  533.0    5.0  \n",
       "445  2021-10-14 13:48:56.821  9761156.0  1.456805  910.0    8.0  \n",
       "446   2021-10-07 10:30:51.51  9747612.0  1.454166 -430.0   -2.0  \n",
       "447   2021-10-07 10:30:51.51  9798400.0  1.455890  889.0    6.0  \n",
       "448   2021-10-07 10:30:51.51  9834348.0  1.457668  677.0    2.0  "
      ]
     },
     "execution_count": 128,
     "metadata": {},
     "output_type": "execute_result"
    }
   ],
   "source": [
    "# 인덱스 444부터 448까지 데이터를 출력\n",
    "# 일일확진자수 -인 데이터를 확인하기 위해\n",
    "corona.loc[444:448]\n",
    "\n",
    "# 445번 데이터가 등록일시 00이 빠져있음 -> 수정했지만 무언가 오류가 있었을것."
   ]
  },
  {
   "cell_type": "code",
   "execution_count": 129,
   "metadata": {},
   "outputs": [
    {
     "data": {
      "text/plain": [
       "0      3.919308\n",
       "1      3.804175\n",
       "2      3.621744\n",
       "3      3.458499\n",
       "4      3.318000\n",
       "         ...   \n",
       "815    1.556435\n",
       "816    1.556435\n",
       "817    1.556435\n",
       "818    1.556435\n",
       "819    1.556435\n",
       "Name: 누적확진률, Length: 820, dtype: float64"
      ]
     },
     "execution_count": 129,
     "metadata": {},
     "output_type": "execute_result"
    }
   ],
   "source": [
    "corona[\"누적확진률\"]"
   ]
  },
  {
   "cell_type": "code",
   "execution_count": 130,
   "metadata": {},
   "outputs": [
    {
     "data": {
      "text/plain": [
       "0      High\n",
       "1      High\n",
       "2      High\n",
       "3      High\n",
       "4      High\n",
       "       ... \n",
       "815    High\n",
       "816    High\n",
       "817    High\n",
       "818    High\n",
       "819    High\n",
       "Name: 누적확진률, Length: 820, dtype: object"
      ]
     },
     "execution_count": 130,
     "metadata": {},
     "output_type": "execute_result"
    }
   ],
   "source": [
    "# lambda 함수 파생변수\n",
    "# 일반 def 함수 파생변수\n",
    "# 누적확진률 컬럼에서 누적확진률의 평균보다 높으면 High, 낮으면 Low라고 표시하는 파생변수\n",
    "\n",
    "# lambda 매개변수 : 표현식\n",
    "# 위의 누적확진률의 값이 x가 되어, 하나씩 들어갈 것\n",
    "corona[\"누적확진률\"].apply(lambda x : \"High\" if (x > corona[\"누적확진률\"].mean()) else \"Low\")\n",
    "                                    #조건식이 참일 때 이거 띄워줘\n",
    "                                            #조건식\n",
    "                                                                                #아니면 이거 띄워줘\n",
    "# else로 쓰면 같은 경우도 Low로 표시됨\n",
    "\n",
    "# corona.head() #근데 난 왜 평균값도 High로 표시되지"
   ]
  },
  {
   "cell_type": "code",
   "execution_count": null,
   "metadata": {},
   "outputs": [],
   "source": [
    "# apply 함수는 x값을 받아와서 return 시켜주는 형태\n",
    "\n",
    "# lambda 함수를 사용할 때\n",
    "# 값을 먼저 적어주고 if 조건식, else 거짓일 때 return 해줄 값을 적어줌\n",
    "corona[\"누적확진률\"].apply(lambda x : \"High\" if (x > corona[\"누적확진률\"].mean()) else \"Low\")\n",
    "                                #나와야 하는 값\n",
    "                                            #조건식                                #거짓일때 return 값\n"
   ]
  },
  {
   "cell_type": "code",
   "execution_count": 131,
   "metadata": {},
   "outputs": [],
   "source": [
    "corona[\"H/L\"] = corona[\"누적확진률\"].apply(lambda x : \"High\" if (x > corona[\"누적확진률\"].mean()) else \"Low\")"
   ]
  },
  {
   "cell_type": "code",
   "execution_count": 132,
   "metadata": {},
   "outputs": [
    {
     "data": {
      "text/plain": [
       "Low     421\n",
       "High    399\n",
       "Name: H/L, dtype: int64"
      ]
     },
     "execution_count": 132,
     "metadata": {},
     "output_type": "execute_result"
    }
   ],
   "source": [
    "corona[\"H/L\"].value_counts()"
   ]
  },
  {
   "cell_type": "code",
   "execution_count": 133,
   "metadata": {},
   "outputs": [
    {
     "data": {
      "text/plain": [
       "<bound method IndexOpsMixin.value_counts of 0      3.919308\n",
       "1      3.804175\n",
       "2      3.621744\n",
       "3      3.458499\n",
       "4      3.318000\n",
       "         ...   \n",
       "815    1.556435\n",
       "816    1.556435\n",
       "817    1.556435\n",
       "818    1.556435\n",
       "819    1.556435\n",
       "Name: 누적확진률, Length: 820, dtype: float64>"
      ]
     },
     "execution_count": 133,
     "metadata": {},
     "output_type": "execute_result"
    }
   ],
   "source": [
    "corona[\"누적확진률\"].value_counts\n",
    "# 교수님 파일이랑 파일 갯수가 달라서 H L 다르게 표시된 거였음~"
   ]
  },
  {
   "cell_type": "code",
   "execution_count": 134,
   "metadata": {},
   "outputs": [],
   "source": [
    "# apply() 일반 함수 => 데이터 한 개 한 개씩 lambda에 집어 넣어준다.\n",
    "# 함수 생성\n",
    "# 매개변수 1개 존재, 매개변수의 값이 누적확진률의 평균보다 높으면 High return\n",
    "# 조건식이 거짓이면 Low return\n",
    "\n",
    "def if_mean(x):\n",
    "    if x > corona[\"누적확진률\"].mean():\n",
    "        return \"High\"\n",
    "    else :\n",
    "        return \"Low\""
   ]
  },
  {
   "cell_type": "code",
   "execution_count": 135,
   "metadata": {},
   "outputs": [
    {
     "data": {
      "text/plain": [
       "'Low'"
      ]
     },
     "execution_count": 135,
     "metadata": {},
     "output_type": "execute_result"
    }
   ],
   "source": [
    "if_mean(1)"
   ]
  },
  {
   "cell_type": "code",
   "execution_count": 136,
   "metadata": {},
   "outputs": [
    {
     "data": {
      "text/plain": [
       "0      High\n",
       "1      High\n",
       "2      High\n",
       "3      High\n",
       "4      High\n",
       "       ... \n",
       "815    High\n",
       "816    High\n",
       "817    High\n",
       "818    High\n",
       "819    High\n",
       "Name: 누적확진률, Length: 820, dtype: object"
      ]
     },
     "execution_count": 136,
     "metadata": {},
     "output_type": "execute_result"
    }
   ],
   "source": [
    "corona[\"누적확진률\"].apply(if_mean) #원래는 if_mean() 이렇게 해줘야 하지만, 함수명만 넣어주면 자동으로 apply가 넣어준다~\n",
    "# corona[\"누적확진률\"].apply(lambda x : \"High\" if (x > corona[\"누적확진률\"].mean()) else \"Low\") 이거랑 같은 행동, 둘 중 편한 방식으로 쓰면 된다.\n",
    "# 보통은 함수를 선언하고 함수를 호출해서 쓰는 게 더 편한데, 나중에 함수 만들기 귀찮아서 lambda 쓰기도 한다."
   ]
  },
  {
   "cell_type": "code",
   "execution_count": 137,
   "metadata": {},
   "outputs": [
    {
     "data": {
      "text/html": [
       "<div>\n",
       "<style scoped>\n",
       "    .dataframe tbody tr th:only-of-type {\n",
       "        vertical-align: middle;\n",
       "    }\n",
       "\n",
       "    .dataframe tbody tr th {\n",
       "        vertical-align: top;\n",
       "    }\n",
       "\n",
       "    .dataframe thead th {\n",
       "        text-align: right;\n",
       "    }\n",
       "</style>\n",
       "<table border=\"1\" class=\"dataframe\">\n",
       "  <thead>\n",
       "    <tr style=\"text-align: right;\">\n",
       "      <th></th>\n",
       "      <th>등록일시</th>\n",
       "      <th>사망자</th>\n",
       "      <th>확진자</th>\n",
       "      <th>게시글번호</th>\n",
       "      <th>기준일</th>\n",
       "      <th>기준시간</th>\n",
       "      <th>수정일시</th>\n",
       "      <th>누적의심자</th>\n",
       "      <th>누적확진률</th>\n",
       "      <th>일일확진자</th>\n",
       "      <th>일일사망자</th>\n",
       "      <th>H/L</th>\n",
       "    </tr>\n",
       "  </thead>\n",
       "  <tbody>\n",
       "    <tr>\n",
       "      <th>0</th>\n",
       "      <td>2020-03-10 00:00:00.000</td>\n",
       "      <td>54</td>\n",
       "      <td>7513</td>\n",
       "      <td>51</td>\n",
       "      <td>20200310</td>\n",
       "      <td>00:00</td>\n",
       "      <td>2021-10-07 10:30:51.51</td>\n",
       "      <td>210144.0</td>\n",
       "      <td>3.919308</td>\n",
       "      <td>0.0</td>\n",
       "      <td>NaN</td>\n",
       "      <td>High</td>\n",
       "    </tr>\n",
       "    <tr>\n",
       "      <th>1</th>\n",
       "      <td>2020-03-11 00:00:00.000</td>\n",
       "      <td>60</td>\n",
       "      <td>7755</td>\n",
       "      <td>52</td>\n",
       "      <td>20200311</td>\n",
       "      <td>00:00</td>\n",
       "      <td>2021-10-07 10:30:51.51</td>\n",
       "      <td>222395.0</td>\n",
       "      <td>3.804175</td>\n",
       "      <td>242.0</td>\n",
       "      <td>6.0</td>\n",
       "      <td>High</td>\n",
       "    </tr>\n",
       "    <tr>\n",
       "      <th>2</th>\n",
       "      <td>2020-03-12 00:00:00.000</td>\n",
       "      <td>66</td>\n",
       "      <td>7869</td>\n",
       "      <td>53</td>\n",
       "      <td>20200312</td>\n",
       "      <td>00:00</td>\n",
       "      <td>2021-10-07 10:30:51.51</td>\n",
       "      <td>234998.0</td>\n",
       "      <td>3.621744</td>\n",
       "      <td>114.0</td>\n",
       "      <td>6.0</td>\n",
       "      <td>High</td>\n",
       "    </tr>\n",
       "    <tr>\n",
       "      <th>3</th>\n",
       "      <td>2020-03-13 00:00:00.000</td>\n",
       "      <td>67</td>\n",
       "      <td>7979</td>\n",
       "      <td>54</td>\n",
       "      <td>20200313</td>\n",
       "      <td>00:00</td>\n",
       "      <td>2021-10-07 10:30:51.51</td>\n",
       "      <td>248647.0</td>\n",
       "      <td>3.458499</td>\n",
       "      <td>110.0</td>\n",
       "      <td>1.0</td>\n",
       "      <td>High</td>\n",
       "    </tr>\n",
       "    <tr>\n",
       "      <th>4</th>\n",
       "      <td>2020-03-14 00:00:00.000</td>\n",
       "      <td>72</td>\n",
       "      <td>8086</td>\n",
       "      <td>55</td>\n",
       "      <td>20200314</td>\n",
       "      <td>00:00</td>\n",
       "      <td>2021-10-07 10:30:51.51</td>\n",
       "      <td>261335.0</td>\n",
       "      <td>3.318000</td>\n",
       "      <td>107.0</td>\n",
       "      <td>5.0</td>\n",
       "      <td>High</td>\n",
       "    </tr>\n",
       "  </tbody>\n",
       "</table>\n",
       "</div>"
      ],
      "text/plain": [
       "                      등록일시  사망자   확진자  게시글번호       기준일   기준시간  \\\n",
       "0  2020-03-10 00:00:00.000   54  7513     51  20200310  00:00   \n",
       "1  2020-03-11 00:00:00.000   60  7755     52  20200311  00:00   \n",
       "2  2020-03-12 00:00:00.000   66  7869     53  20200312  00:00   \n",
       "3  2020-03-13 00:00:00.000   67  7979     54  20200313  00:00   \n",
       "4  2020-03-14 00:00:00.000   72  8086     55  20200314  00:00   \n",
       "\n",
       "                     수정일시     누적의심자     누적확진률  일일확진자  일일사망자   H/L  \n",
       "0  2021-10-07 10:30:51.51  210144.0  3.919308    0.0    NaN  High  \n",
       "1  2021-10-07 10:30:51.51  222395.0  3.804175  242.0    6.0  High  \n",
       "2  2021-10-07 10:30:51.51  234998.0  3.621744  114.0    6.0  High  \n",
       "3  2021-10-07 10:30:51.51  248647.0  3.458499  110.0    1.0  High  \n",
       "4  2021-10-07 10:30:51.51  261335.0  3.318000  107.0    5.0  High  "
      ]
     },
     "execution_count": 137,
     "metadata": {},
     "output_type": "execute_result"
    }
   ],
   "source": [
    "corona.head()"
   ]
  },
  {
   "cell_type": "code",
   "execution_count": 138,
   "metadata": {},
   "outputs": [],
   "source": [
    "# 요일이라는 파생변수 생성\n",
    "# 등록일시 datetime 변경\n",
    "# datetime 기준으로 요일을 출력\n",
    "corona[\"등록일시\"] = pd.to_datetime(corona[\"등록일시\"]) #원래는 format을 써야 돌아가지만, 해당 자료는 datetime의 교과서 같은 자료로 굳이 안써도 됨\n",
    "\n",
    "#corona[\"등록일시\"] = pd.to_datetime(corona[\"등록일시\"], format = format=\"%Y-%m-%d %H:%M:%S\")"
   ]
  },
  {
   "cell_type": "code",
   "execution_count": 139,
   "metadata": {},
   "outputs": [
    {
     "data": {
      "text/html": [
       "<div>\n",
       "<style scoped>\n",
       "    .dataframe tbody tr th:only-of-type {\n",
       "        vertical-align: middle;\n",
       "    }\n",
       "\n",
       "    .dataframe tbody tr th {\n",
       "        vertical-align: top;\n",
       "    }\n",
       "\n",
       "    .dataframe thead th {\n",
       "        text-align: right;\n",
       "    }\n",
       "</style>\n",
       "<table border=\"1\" class=\"dataframe\">\n",
       "  <thead>\n",
       "    <tr style=\"text-align: right;\">\n",
       "      <th></th>\n",
       "      <th>등록일시</th>\n",
       "      <th>사망자</th>\n",
       "      <th>확진자</th>\n",
       "      <th>게시글번호</th>\n",
       "      <th>기준일</th>\n",
       "      <th>기준시간</th>\n",
       "      <th>수정일시</th>\n",
       "      <th>누적의심자</th>\n",
       "      <th>누적확진률</th>\n",
       "      <th>일일확진자</th>\n",
       "      <th>일일사망자</th>\n",
       "      <th>H/L</th>\n",
       "      <th>요일</th>\n",
       "    </tr>\n",
       "  </thead>\n",
       "  <tbody>\n",
       "    <tr>\n",
       "      <th>0</th>\n",
       "      <td>2020-03-10</td>\n",
       "      <td>54</td>\n",
       "      <td>7513</td>\n",
       "      <td>51</td>\n",
       "      <td>20200310</td>\n",
       "      <td>00:00</td>\n",
       "      <td>2021-10-07 10:30:51.51</td>\n",
       "      <td>210144.0</td>\n",
       "      <td>3.919308</td>\n",
       "      <td>0.0</td>\n",
       "      <td>NaN</td>\n",
       "      <td>High</td>\n",
       "      <td>1</td>\n",
       "    </tr>\n",
       "    <tr>\n",
       "      <th>1</th>\n",
       "      <td>2020-03-11</td>\n",
       "      <td>60</td>\n",
       "      <td>7755</td>\n",
       "      <td>52</td>\n",
       "      <td>20200311</td>\n",
       "      <td>00:00</td>\n",
       "      <td>2021-10-07 10:30:51.51</td>\n",
       "      <td>222395.0</td>\n",
       "      <td>3.804175</td>\n",
       "      <td>242.0</td>\n",
       "      <td>6.0</td>\n",
       "      <td>High</td>\n",
       "      <td>2</td>\n",
       "    </tr>\n",
       "    <tr>\n",
       "      <th>2</th>\n",
       "      <td>2020-03-12</td>\n",
       "      <td>66</td>\n",
       "      <td>7869</td>\n",
       "      <td>53</td>\n",
       "      <td>20200312</td>\n",
       "      <td>00:00</td>\n",
       "      <td>2021-10-07 10:30:51.51</td>\n",
       "      <td>234998.0</td>\n",
       "      <td>3.621744</td>\n",
       "      <td>114.0</td>\n",
       "      <td>6.0</td>\n",
       "      <td>High</td>\n",
       "      <td>3</td>\n",
       "    </tr>\n",
       "    <tr>\n",
       "      <th>3</th>\n",
       "      <td>2020-03-13</td>\n",
       "      <td>67</td>\n",
       "      <td>7979</td>\n",
       "      <td>54</td>\n",
       "      <td>20200313</td>\n",
       "      <td>00:00</td>\n",
       "      <td>2021-10-07 10:30:51.51</td>\n",
       "      <td>248647.0</td>\n",
       "      <td>3.458499</td>\n",
       "      <td>110.0</td>\n",
       "      <td>1.0</td>\n",
       "      <td>High</td>\n",
       "      <td>4</td>\n",
       "    </tr>\n",
       "    <tr>\n",
       "      <th>4</th>\n",
       "      <td>2020-03-14</td>\n",
       "      <td>72</td>\n",
       "      <td>8086</td>\n",
       "      <td>55</td>\n",
       "      <td>20200314</td>\n",
       "      <td>00:00</td>\n",
       "      <td>2021-10-07 10:30:51.51</td>\n",
       "      <td>261335.0</td>\n",
       "      <td>3.318000</td>\n",
       "      <td>107.0</td>\n",
       "      <td>5.0</td>\n",
       "      <td>High</td>\n",
       "      <td>5</td>\n",
       "    </tr>\n",
       "  </tbody>\n",
       "</table>\n",
       "</div>"
      ],
      "text/plain": [
       "        등록일시  사망자   확진자  게시글번호       기준일   기준시간                    수정일시  \\\n",
       "0 2020-03-10   54  7513     51  20200310  00:00  2021-10-07 10:30:51.51   \n",
       "1 2020-03-11   60  7755     52  20200311  00:00  2021-10-07 10:30:51.51   \n",
       "2 2020-03-12   66  7869     53  20200312  00:00  2021-10-07 10:30:51.51   \n",
       "3 2020-03-13   67  7979     54  20200313  00:00  2021-10-07 10:30:51.51   \n",
       "4 2020-03-14   72  8086     55  20200314  00:00  2021-10-07 10:30:51.51   \n",
       "\n",
       "      누적의심자     누적확진률  일일확진자  일일사망자   H/L  요일  \n",
       "0  210144.0  3.919308    0.0    NaN  High   1  \n",
       "1  222395.0  3.804175  242.0    6.0  High   2  \n",
       "2  234998.0  3.621744  114.0    6.0  High   3  \n",
       "3  248647.0  3.458499  110.0    1.0  High   4  \n",
       "4  261335.0  3.318000  107.0    5.0  High   5  "
      ]
     },
     "execution_count": 139,
     "metadata": {},
     "output_type": "execute_result"
    }
   ],
   "source": [
    "# dt.weekdat 사용하면 요일이 숫자로 표시된다.\n",
    "# 0 -> 월, 6 -> 일\n",
    "corona[\"요일\"] = corona[\"등록일시\"].dt.weekday\n",
    "corona.head()"
   ]
  },
  {
   "cell_type": "code",
   "execution_count": 140,
   "metadata": {},
   "outputs": [],
   "source": [
    "## apply 함수를 이용해서 숫자로 표시되어 있는 요일 컬럼을 한글로 변경해보기\n",
    "\n",
    "def tsday(x) :\n",
    "    if x == 1 :\n",
    "        return \"월\"\n",
    "    elif x == 2 :\n",
    "        return \"화\"\n",
    "    elif x == 3 :\n",
    "        return \"수\"    \n",
    "    elif x == 4 :\n",
    "        return \"목\"\n",
    "    elif x == 5 :\n",
    "        return \"금\"\n",
    "    elif x == 6 :\n",
    "        return \"토\"\n",
    "    else :\n",
    "        return \"일\"    "
   ]
  },
  {
   "cell_type": "code",
   "execution_count": 141,
   "metadata": {},
   "outputs": [
    {
     "data": {
      "text/plain": [
       "'월'"
      ]
     },
     "execution_count": 141,
     "metadata": {},
     "output_type": "execute_result"
    }
   ],
   "source": [
    "tsday(1)"
   ]
  },
  {
   "cell_type": "code",
   "execution_count": 142,
   "metadata": {},
   "outputs": [
    {
     "data": {
      "text/plain": [
       "0    월\n",
       "1    화\n",
       "2    수\n",
       "3    목\n",
       "4    금\n",
       "Name: 요일, dtype: object"
      ]
     },
     "execution_count": 142,
     "metadata": {},
     "output_type": "execute_result"
    }
   ],
   "source": [
    "corona[\"요일\"] = corona[\"요일\"].apply(tsday)\n",
    "corona[\"요일\"].head()"
   ]
  },
  {
   "cell_type": "code",
   "execution_count": 143,
   "metadata": {},
   "outputs": [
    {
     "data": {
      "text/html": [
       "<div>\n",
       "<style scoped>\n",
       "    .dataframe tbody tr th:only-of-type {\n",
       "        vertical-align: middle;\n",
       "    }\n",
       "\n",
       "    .dataframe tbody tr th {\n",
       "        vertical-align: top;\n",
       "    }\n",
       "\n",
       "    .dataframe thead th {\n",
       "        text-align: right;\n",
       "    }\n",
       "</style>\n",
       "<table border=\"1\" class=\"dataframe\">\n",
       "  <thead>\n",
       "    <tr style=\"text-align: right;\">\n",
       "      <th></th>\n",
       "      <th>사망자</th>\n",
       "      <th>확진자</th>\n",
       "      <th>게시글번호</th>\n",
       "      <th>기준일</th>\n",
       "      <th>누적의심자</th>\n",
       "      <th>누적확진률</th>\n",
       "      <th>일일확진자</th>\n",
       "      <th>일일사망자</th>\n",
       "    </tr>\n",
       "    <tr>\n",
       "      <th>요일</th>\n",
       "      <th></th>\n",
       "      <th></th>\n",
       "      <th></th>\n",
       "      <th></th>\n",
       "      <th></th>\n",
       "      <th></th>\n",
       "      <th></th>\n",
       "      <th></th>\n",
       "    </tr>\n",
       "  </thead>\n",
       "  <tbody>\n",
       "    <tr>\n",
       "      <th>금</th>\n",
       "      <td>3908.427350</td>\n",
       "      <td>1.896723e+06</td>\n",
       "      <td>471.940171</td>\n",
       "      <td>2.020901e+07</td>\n",
       "      <td>7.575484e+06</td>\n",
       "      <td>1.550996</td>\n",
       "      <td>22555.948718</td>\n",
       "      <td>32.504274</td>\n",
       "    </tr>\n",
       "    <tr>\n",
       "      <th>목</th>\n",
       "      <td>3875.923077</td>\n",
       "      <td>1.874167e+06</td>\n",
       "      <td>470.940171</td>\n",
       "      <td>2.020893e+07</td>\n",
       "      <td>7.541537e+06</td>\n",
       "      <td>1.552697</td>\n",
       "      <td>22542.854701</td>\n",
       "      <td>32.897436</td>\n",
       "    </tr>\n",
       "    <tr>\n",
       "      <th>수</th>\n",
       "      <td>3873.922414</td>\n",
       "      <td>1.867492e+06</td>\n",
       "      <td>472.991379</td>\n",
       "      <td>2.020893e+07</td>\n",
       "      <td>7.576033e+06</td>\n",
       "      <td>1.555236</td>\n",
       "      <td>25776.267241</td>\n",
       "      <td>34.206897</td>\n",
       "    </tr>\n",
       "    <tr>\n",
       "      <th>월</th>\n",
       "      <td>3954.652542</td>\n",
       "      <td>1.937736e+06</td>\n",
       "      <td>471.364407</td>\n",
       "      <td>2.020895e+07</td>\n",
       "      <td>7.437156e+06</td>\n",
       "      <td>1.570840</td>\n",
       "      <td>21787.296610</td>\n",
       "      <td>27.000000</td>\n",
       "    </tr>\n",
       "    <tr>\n",
       "      <th>일</th>\n",
       "      <td>3978.267241</td>\n",
       "      <td>1.947711e+06</td>\n",
       "      <td>473.750000</td>\n",
       "      <td>2.020901e+07</td>\n",
       "      <td>7.594898e+06</td>\n",
       "      <td>1.554822</td>\n",
       "      <td>14862.586207</td>\n",
       "      <td>24.267241</td>\n",
       "    </tr>\n",
       "  </tbody>\n",
       "</table>\n",
       "</div>"
      ],
      "text/plain": [
       "            사망자           확진자       게시글번호           기준일         누적의심자  \\\n",
       "요일                                                                      \n",
       "금   3908.427350  1.896723e+06  471.940171  2.020901e+07  7.575484e+06   \n",
       "목   3875.923077  1.874167e+06  470.940171  2.020893e+07  7.541537e+06   \n",
       "수   3873.922414  1.867492e+06  472.991379  2.020893e+07  7.576033e+06   \n",
       "월   3954.652542  1.937736e+06  471.364407  2.020895e+07  7.437156e+06   \n",
       "일   3978.267241  1.947711e+06  473.750000  2.020901e+07  7.594898e+06   \n",
       "\n",
       "       누적확진률         일일확진자      일일사망자  \n",
       "요일                                     \n",
       "금   1.550996  22555.948718  32.504274  \n",
       "목   1.552697  22542.854701  32.897436  \n",
       "수   1.555236  25776.267241  34.206897  \n",
       "월   1.570840  21787.296610  27.000000  \n",
       "일   1.554822  14862.586207  24.267241  "
      ]
     },
     "execution_count": 143,
     "metadata": {},
     "output_type": "execute_result"
    }
   ],
   "source": [
    "# corona[\"요일\"].apply(lambda x : \"월\" if x == 0 else \"화\" if x == 1 else \"수\") 이런 식으로 써야하기 때문에 위와 같은거 lambda로 잘 안씀\n",
    "\n",
    "# 요일별 코로나의 확진자수의 평균이 어떻게 표시되는가? -> 요일 컬럼 기준으로 groupby 묶고 .mean()\n",
    "# 그래프를 이용해서 출력\n",
    "\n",
    "week_corona = corona.groupby(\"요일\").mean()\n",
    "week_corona.head()"
   ]
  },
  {
   "cell_type": "code",
   "execution_count": 144,
   "metadata": {},
   "outputs": [
    {
     "data": {
      "text/plain": [
       "요일\n",
       "금    22555.948718\n",
       "목    22542.854701\n",
       "수    25776.267241\n",
       "월    21787.296610\n",
       "일    14862.586207\n",
       "토    20625.101695\n",
       "화    26994.550847\n",
       "Name: 일일확진자, dtype: float64"
      ]
     },
     "execution_count": 144,
     "metadata": {},
     "output_type": "execute_result"
    }
   ],
   "source": [
    "week_corona[\"일일확진자\"]\n",
    "# 이 데이터로 그래프 그려볼 것\n",
    "# 한글 오름차순으로 나오는거 아닐지? 교수님 피셜"
   ]
  },
  {
   "cell_type": "markdown",
   "metadata": {},
   "source": [
    "그려볼까 그래프?"
   ]
  },
  {
   "cell_type": "code",
   "execution_count": 145,
   "metadata": {},
   "outputs": [],
   "source": [
    "from matplotlib import font_manager, rc"
   ]
  },
  {
   "cell_type": "code",
   "execution_count": 146,
   "metadata": {},
   "outputs": [],
   "source": [
    "import matplotlib.pyplot as plt"
   ]
  },
  {
   "cell_type": "code",
   "execution_count": 147,
   "metadata": {},
   "outputs": [
    {
     "data": {
      "text/plain": [
       "Index(['금', '목', '수', '월', '일', '토', '화'], dtype='object', name='요일')"
      ]
     },
     "execution_count": 147,
     "metadata": {},
     "output_type": "execute_result"
    }
   ],
   "source": [
    "week_corona.index\n",
    "# 이건 리스트 형태"
   ]
  },
  {
   "cell_type": "code",
   "execution_count": 148,
   "metadata": {},
   "outputs": [
    {
     "data": {
      "text/plain": [
       "요일\n",
       "금    22555.948718\n",
       "목    22542.854701\n",
       "수    25776.267241\n",
       "월    21787.296610\n",
       "일    14862.586207\n",
       "토    20625.101695\n",
       "화    26994.550847\n",
       "Name: 일일확진자, dtype: float64"
      ]
     },
     "execution_count": 148,
     "metadata": {},
     "output_type": "execute_result"
    }
   ],
   "source": [
    "week_corona[\"일일확진자\"]\n",
    "# 이건 시리즈 형태, 그래프를 만들 때는 리스트형태로 바꿔줘야한다."
   ]
  },
  {
   "cell_type": "code",
   "execution_count": 153,
   "metadata": {},
   "outputs": [
    {
     "data": {
      "text/plain": [
       "Index(['금', '목', '수', '월', '일', '토', '화'], dtype='object', name='요일')"
      ]
     },
     "execution_count": 153,
     "metadata": {},
     "output_type": "execute_result"
    }
   ],
   "source": [
    "week_corona.index"
   ]
  },
  {
   "cell_type": "code",
   "execution_count": 157,
   "metadata": {},
   "outputs": [
    {
     "name": "stdout",
     "output_type": "stream",
     "text": [
      "Index(['금', '목', '수', '월', '일', '토', '화'], dtype='object', name='요일')\n",
      "요일\n",
      "금    22555.948718\n",
      "목    22542.854701\n",
      "수    25776.267241\n",
      "월    21787.296610\n",
      "일    14862.586207\n",
      "토    20625.101695\n",
      "화    26994.550847\n",
      "Name: 일일확진자, dtype: float64\n"
     ]
    },
    {
     "data": {
      "text/plain": [
       "[<matplotlib.lines.Line2D at 0x1fd39074508>]"
      ]
     },
     "execution_count": 157,
     "metadata": {},
     "output_type": "execute_result"
    },
    {
     "data": {
      "image/png": "[encoded data removed]",
      "text/plain": [
       "<Figure size 432x288 with 1 Axes>"
      ]
     },
     "metadata": {
      "needs_background": "light"
     },
     "output_type": "display_data"
    }
   ],
   "source": [
    "# x축의 값 -> 요일\n",
    "# y축의 값 -> 일일확진자 수의 평균값 (평균 확진자수)\n",
    "x = week_corona.index\n",
    "y = week_corona[\"일일확진자\"]\n",
    "\n",
    "# C드라이브 -> windows -> fonts\n",
    "file_path = \"C:/Windows/Fonts/08SeoulNamsanB.TTF\" #경로 복사해와서 \\를 /로 바꿔줘야함\n",
    "font = font_manager.FontProperties(fname = file_path).get_name() #get_name() 이거 찾아와~\n",
    "\n",
    "rc('font', family=font)\n",
    "\n",
    "# plt.plot(x, y)\n",
    "# plt.show()\n",
    "\n",
    "print(x)\n",
    "print(y)\n",
    "\n",
    "plt.plot(y)"
   ]
  },
  {
   "cell_type": "code",
   "execution_count": null,
   "metadata": {},
   "outputs": [],
   "source": [
    "# 정석 방법으로 하면 위의 코드 오류남\n",
    "# tuple index가 포함되어 있다는 것 같은데 왜인지는 모르겠음\n"
   ]
  }
 ],
 "metadata": {
  "kernelspec": {
   "display_name": "Python 3.7.4 64-bit",
   "language": "python",
   "name": "python3"
  },
  "language_info": {
   "codemirror_mode": {
    "name": "ipython",
    "version": 3
   },
   "file_extension": ".py",
   "mimetype": "text/x-python",
   "name": "python",
   "nbconvert_exporter": "python",
   "pygments_lexer": "ipython3",
   "version": "3.7.4"
  },
  "orig_nbformat": 4,
  "vscode": {
   "interpreter": {
    "hash": "8b14a0db5529cddf4d1b801fc161c5e32b742119ae506b31a16c8b7873851752"
   }
  }
 },
 "nbformat": 4,
 "nbformat_minor": 2
}
