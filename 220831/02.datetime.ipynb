{
 "cells": [
  {
   "cell_type": "code",
   "execution_count": 1,
   "metadata": {},
   "outputs": [],
   "source": [
    "import datetime"
   ]
  },
  {
   "cell_type": "code",
   "execution_count": 7,
   "metadata": {},
   "outputs": [
    {
     "name": "stdout",
     "output_type": "stream",
     "text": [
      "2022-08-31 10:16:20\n",
      "<class 'str'>\n"
     ]
    }
   ],
   "source": [
    "format = \"%Y-%m-%d %H:%M:%S\"\n",
    "datetime_str = '2022-08-31 10:16:20'\n",
    "print(datetime_str)\n",
    "print(type(datetime_str))"
   ]
  },
  {
   "cell_type": "code",
   "execution_count": 6,
   "metadata": {},
   "outputs": [
    {
     "name": "stdout",
     "output_type": "stream",
     "text": [
      "2022-08-31 10:16:20\n",
      "<class 'datetime.datetime'>\n"
     ]
    }
   ],
   "source": [
    "date = datetime.datetime.strptime(datetime_str, format) #strptime 함수 호출하고 datetime_str 변수 넣어줌\n",
    "print(date)\n",
    "print(type(date)) \n",
    "\n",
    "#문자열 데이터를 시계열로 변경"
   ]
  },
  {
   "cell_type": "code",
   "execution_count": 8,
   "metadata": {},
   "outputs": [
    {
     "data": {
      "text/plain": [
       "datetime.date(2022, 8, 31)"
      ]
     },
     "execution_count": 8,
     "metadata": {},
     "output_type": "execute_result"
    }
   ],
   "source": [
    "datetime.date.today() #현재 날짜 나타내기"
   ]
  },
  {
   "cell_type": "code",
   "execution_count": 9,
   "metadata": {},
   "outputs": [
    {
     "name": "stdout",
     "output_type": "stream",
     "text": [
      "2022-08-31 10:16:20\n",
      "<class 'str'>\n"
     ]
    }
   ],
   "source": [
    "#시계열 데이터를 문자열 데이터로 변경\n",
    "date_str = date.strftime(format)\n",
    "print(date_str)\n",
    "print(type(date_str))"
   ]
  },
  {
   "cell_type": "markdown",
   "metadata": {},
   "source": [
    "### datetime format\n",
    "- %y : 년도를 축약해서 표시 ('22')\n",
    "- %Y : 년도의 전체를 표시 ('2022')\n",
    "- %b : 축약이 된 월의 이름 ('Mar')\n",
    "- %B : 월의 이름 ('March')\n",
    "- %m : 월을 숫자로 표시 ('08')\n",
    "- %d : 일을 숫자로 표시 ('31')\n",
    "- %H : 시를 24시를 기준으로 표시\n",
    "- %I : 시를 12시를 기준으로 표시 \n",
    "- %M : 분을 표시 => 소문자 m이 월에 있기 때문\n",
    "- %s : 초를 표시\n",
    "- %a : 요일의 이름을 축약해서 표시\n",
    "- %A : 요일의 이름을 표시\n",
    "- %w : 요일을 숫자로 표시 (일 : 0, 월 : 1, ... 토 : 6)"
   ]
  },
  {
   "cell_type": "code",
   "execution_count": 10,
   "metadata": {},
   "outputs": [],
   "source": [
    "#pandas에서 시계열 데이터\n",
    "import pandas as pd"
   ]
  },
  {
   "cell_type": "code",
   "execution_count": 11,
   "metadata": {},
   "outputs": [
    {
     "data": {
      "text/plain": [
       "Timestamp('1970-01-01 00:16:40')"
      ]
     },
     "execution_count": 11,
     "metadata": {},
     "output_type": "execute_result"
    }
   ],
   "source": [
    "# 나노초를 기준으로 1970-01-01 00:00:00 에서 나노초만큼 더한 날짜\n",
    "pd.Timestamp(1000000000000)"
   ]
  },
  {
   "cell_type": "code",
   "execution_count": 13,
   "metadata": {},
   "outputs": [
    {
     "data": {
      "text/plain": [
       "Timestamp('2243-10-17 00:00:00')"
      ]
     },
     "execution_count": 13,
     "metadata": {},
     "output_type": "execute_result"
    }
   ],
   "source": [
    "# unit='D' 기준을 일로 변경\n",
    "pd.Timestamp(100000, unit='D')"
   ]
  },
  {
   "cell_type": "code",
   "execution_count": 15,
   "metadata": {},
   "outputs": [
    {
     "data": {
      "text/plain": [
       "Timestamp('2022-06-01 00:00:00')"
      ]
     },
     "execution_count": 15,
     "metadata": {},
     "output_type": "execute_result"
    }
   ],
   "source": [
    "pd.Timestamp('2022-06')"
   ]
  },
  {
   "cell_type": "code",
   "execution_count": 16,
   "metadata": {},
   "outputs": [
    {
     "data": {
      "text/plain": [
       "Timestamp('2022-01-01 12:00:00')"
      ]
     },
     "execution_count": 16,
     "metadata": {},
     "output_type": "execute_result"
    }
   ],
   "source": [
    "pd.to_datetime('2022-01-01 12')"
   ]
  },
  {
   "cell_type": "code",
   "execution_count": 17,
   "metadata": {},
   "outputs": [
    {
     "data": {
      "text/plain": [
       "DatetimeIndex(['2022-01-01', '2022-08-31'], dtype='datetime64[ns]', freq=None)"
      ]
     },
     "execution_count": 17,
     "metadata": {},
     "output_type": "execute_result"
    }
   ],
   "source": [
    "pd.to_datetime(['2022-01-01', '2022-08-31']) #리스트 형태도 가능"
   ]
  },
  {
   "cell_type": "code",
   "execution_count": null,
   "metadata": {},
   "outputs": [],
   "source": []
  }
 ],
 "metadata": {
  "kernelspec": {
   "display_name": "Python 3.7.4 64-bit",
   "language": "python",
   "name": "python3"
  },
  "language_info": {
   "codemirror_mode": {
    "name": "ipython",
    "version": 3
   },
   "file_extension": ".py",
   "mimetype": "text/x-python",
   "name": "python",
   "nbconvert_exporter": "python",
   "pygments_lexer": "ipython3",
   "version": "3.7.4"
  },
  "orig_nbformat": 4,
  "vscode": {
   "interpreter": {
    "hash": "8b14a0db5529cddf4d1b801fc161c5e32b742119ae506b31a16c8b7873851752"
   }
  }
 },
 "nbformat": 4,
 "nbformat_minor": 2
}
