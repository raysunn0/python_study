{
 "cells": [
  {
   "cell_type": "markdown",
   "metadata": {},
   "source": [
    "220829"
   ]
  },
  {
   "cell_type": "code",
   "execution_count": null,
   "metadata": {},
   "outputs": [],
   "source": [
    "print(type(a))\n",
    "not(True)\n",
    "\n",
    "for i in range(1, 51, 1):\n",
    "    for j in range(1, 10, 1):\n",
    "        if i + j == 34:\n",
    "            print(i, j)\n",
    "            #sum += 1\n",
    "\n",
    "\n",
    "sum = 0\n",
    "for i in range (1, 51, 1):\n",
    "    if i%2 == 0:\n",
    "        sum += i\n",
    "print(sum)\n",
    "\n",
    "\n",
    "for i in range(0, 100, 1):\n",
    "    print(i, end = \" \") #end 구문을 통해 한 줄로 작성\n",
    "    if i == 7 :\n",
    "        break\n",
    "    print(i)"
   ]
  },
  {
   "cell_type": "code",
   "execution_count": 6,
   "metadata": {},
   "outputs": [
    {
     "name": "stdout",
     "output_type": "stream",
     "text": [
      "<class 'tuple'>\n"
     ]
    }
   ],
   "source": [
    "# 튜플\n",
    "a = (20, \"test\")\n",
    "a[1:3] # 2번째, 3번째 값이 나옴\n",
    "\n",
    "# 리스트\n",
    "b = [20, 10, 50, 5]\n",
    "b.sort() # 오름차순 정렬\n",
    "b.reverse() # 역순으로 정렬\n",
    "b.append(10) # 뒤에 10 추가\n",
    "\n",
    "# 딕셔너리 df 형태로 한 번에 변경 가능하기 때문에 유용\n",
    "dict = {\"name\" : \"test\", \"age\" : 20, \"phone\" : \"01012345678\"}\n",
    "\n",
    "print(type(a))"
   ]
  },
  {
   "cell_type": "code",
   "execution_count": 5,
   "metadata": {},
   "outputs": [
    {
     "name": "stdout",
     "output_type": "stream",
     "text": [
      "<class 'tuple'>\n"
     ]
    }
   ],
   "source": [
    "# 1부터 70까지 3의 배수를 리스트로 만들어서 출력하시오\n",
    "count = []\n",
    "for i in range(1, 71, 1):\n",
    "    if i%3 == 0:\n",
    "        count.append(i)\n",
    "print(count)\n",
    "\n",
    "# 리스트로 출력하려면 비어있는 리스트 변수를 생성해야 함\n",
    "l = []\n",
    "for i in range(1, 71, 1):\n",
    "    if i % 3 == 0:\n",
    "        l.append(i)\n",
    "print(l)"
   ]
  },
  {
   "cell_type": "code",
   "execution_count": 1,
   "metadata": {},
   "outputs": [],
   "source": [
    "import pandas as pd\n",
    "import numpy as np"
   ]
  },
  {
   "cell_type": "code",
   "execution_count": null,
   "metadata": {},
   "outputs": [],
   "source": []
  }
 ],
 "metadata": {
  "kernelspec": {
   "display_name": "Python 3.9.12 ('base')",
   "language": "python",
   "name": "python3"
  },
  "language_info": {
   "codemirror_mode": {
    "name": "ipython",
    "version": 3
   },
   "file_extension": ".py",
   "mimetype": "text/x-python",
   "name": "python",
   "nbconvert_exporter": "python",
   "pygments_lexer": "ipython3",
   "version": "3.9.12"
  },
  "orig_nbformat": 4,
  "vscode": {
   "interpreter": {
    "hash": "d1a7f32a507984228915b44903fe31fe6f2ae018884371836a7638e3a09f86b9"
   }
  }
 },
 "nbformat": 4,
 "nbformat_minor": 2
}
